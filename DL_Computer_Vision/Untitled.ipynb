{
 "cells": [
  {
   "cell_type": "code",
   "execution_count": 114,
   "id": "7e5a88f2",
   "metadata": {},
   "outputs": [],
   "source": [
    "import numpy as np\n",
    "import cv2"
   ]
  },
  {
   "cell_type": "code",
   "execution_count": 115,
   "id": "118b8347",
   "metadata": {},
   "outputs": [],
   "source": [
    "blank_image = np.zeros((500,500,3), np.uint8)"
   ]
  },
  {
   "cell_type": "code",
   "execution_count": 116,
   "id": "99c8f898",
   "metadata": {},
   "outputs": [],
   "source": [
    "blank_image[:] = 255\n",
    "\n",
    "cyan = (255, 255, 0)\n",
    "yellow = (0, 255, 255)\n",
    "magenta = (255, 0, 255)\n",
    "pink = (255, 153, 255)\n",
    "lighter_blue = (150, 150, 0)"
   ]
  },
  {
   "cell_type": "code",
   "execution_count": 117,
   "id": "a44faac9",
   "metadata": {},
   "outputs": [
    {
     "data": {
      "text/plain": [
       "array([[[255, 255, 255],\n",
       "        [255, 255, 255],\n",
       "        [255, 255, 255],\n",
       "        ...,\n",
       "        [255, 255, 255],\n",
       "        [255, 255, 255],\n",
       "        [255, 255, 255]],\n",
       "\n",
       "       [[255, 255, 255],\n",
       "        [255, 255, 255],\n",
       "        [255, 255, 255],\n",
       "        ...,\n",
       "        [255, 255, 255],\n",
       "        [255, 255, 255],\n",
       "        [255, 255, 255]],\n",
       "\n",
       "       [[255, 255, 255],\n",
       "        [255, 255, 255],\n",
       "        [255, 255, 255],\n",
       "        ...,\n",
       "        [255, 255, 255],\n",
       "        [255, 255, 255],\n",
       "        [255, 255, 255]],\n",
       "\n",
       "       ...,\n",
       "\n",
       "       [[255, 255, 255],\n",
       "        [255, 255, 255],\n",
       "        [255, 255, 255],\n",
       "        ...,\n",
       "        [255, 255, 255],\n",
       "        [255, 255, 255],\n",
       "        [255, 255, 255]],\n",
       "\n",
       "       [[255, 255, 255],\n",
       "        [255, 255, 255],\n",
       "        [255, 255, 255],\n",
       "        ...,\n",
       "        [255, 255, 255],\n",
       "        [255, 255, 255],\n",
       "        [255, 255, 255]],\n",
       "\n",
       "       [[255, 255, 255],\n",
       "        [255, 255, 255],\n",
       "        [255, 255, 255],\n",
       "        ...,\n",
       "        [255, 255, 255],\n",
       "        [255, 255, 255],\n",
       "        [255, 255, 255]]], dtype=uint8)"
      ]
     },
     "execution_count": 117,
     "metadata": {},
     "output_type": "execute_result"
    }
   ],
   "source": [
    "cv2.circle(blank_image, (10, 10), 5, lighter_blue, -1)\n",
    "\n",
    "cv2.circle(blank_image, (50, 50), 5, pink, -1)\n",
    "\n",
    "cv2.circle(blank_image, (100, 100), 5, magenta, -1)\n",
    "\n",
    "cv2.circle(blank_image, (150, 150), 5, cyan, -1)\n",
    "\n",
    "cv2.circle(blank_image, (200, 200), 5, yellow, -1)"
   ]
  },
  {
   "cell_type": "code",
   "execution_count": 118,
   "id": "b030bae6",
   "metadata": {},
   "outputs": [
    {
     "data": {
      "text/plain": [
       "True"
      ]
     },
     "execution_count": 118,
     "metadata": {},
     "output_type": "execute_result"
    }
   ],
   "source": [
    "cv2.imwrite(\"blank_img.jpg\", blank_image)"
   ]
  },
  {
   "cell_type": "code",
   "execution_count": null,
   "id": "f1b4877c",
   "metadata": {},
   "outputs": [],
   "source": [
    "    cv_img = cv2.imread(\"/home/merlab/DREAM/data/real/panda-3cam_realsense_short/000000.rgb.jpg\")\n",
    "\n",
    "\n",
    "    cv2.imwrite(\"pix_test_01.jpg\", cv_img)\n",
    "\n",
    "    cv2.circle(cv_img,(415, 442),5,(0, 0, 255),-1)\n",
    "    cv2.circle(cv_img,(411, 301),10,(0, 255, 0),-1)\n",
    "    cv2.circle(cv_img,(491, 205),5,(255, 0, 0),-1)\n",
    "    cv2.circle(cv_img,(476, 178),10,(255, 255, 0),-1)\n",
    "    cv2.circle(cv_img,(334, 207),5,(0, 255, 255),-1)\n",
    "    cv2.circle(cv_img,(295, 208),10,(255, 0, 255),-1)\n",
    "    cv2.circle(cv_img,(294, 265),10,(255, 153, 255),-1)\n",
    "    # cv2.circle(cv_img,(int(image_pix[7][0]), int(image_pix[7][1])),5,(150, 150, 0),-1)\n",
    "    \n",
    "\n",
    "    cv2.imwrite(\"pix_test_02.jpg\", cv_img)\n"
   ]
  },
  {
   "cell_type": "code",
   "execution_count": null,
   "id": "494c83ff",
   "metadata": {},
   "outputs": [],
   "source": []
  }
 ],
 "metadata": {
  "kernelspec": {
   "display_name": "Python 3 (ipykernel)",
   "language": "python",
   "name": "python3"
  },
  "language_info": {
   "codemirror_mode": {
    "name": "ipython",
    "version": 3
   },
   "file_extension": ".py",
   "mimetype": "text/x-python",
   "name": "python",
   "nbconvert_exporter": "python",
   "pygments_lexer": "ipython3",
   "version": "3.8.10"
  }
 },
 "nbformat": 4,
 "nbformat_minor": 5
}
