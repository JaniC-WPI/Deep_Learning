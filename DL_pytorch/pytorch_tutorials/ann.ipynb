{
 "cells": [
  {
   "cell_type": "code",
   "execution_count": 1,
   "id": "526754b7",
   "metadata": {},
   "outputs": [
    {
     "name": "stdout",
     "output_type": "stream",
     "text": [
      "Requirement already satisfied: ipywidgets in c:\\users\\merlab-jani\\anaconda3\\envs\\voice_cloning_env\\lib\\site-packages (8.0.2)\n",
      "Requirement already satisfied: widgetsnbextension in c:\\users\\merlab-jani\\anaconda3\\envs\\voice_cloning_env\\lib\\site-packages (4.0.3)\n",
      "Requirement already satisfied: pandas-profiling in c:\\users\\merlab-jani\\anaconda3\\envs\\voice_cloning_env\\lib\\site-packages (3.5.0)\n",
      "Requirement already satisfied: ipykernel>=4.5.1 in c:\\users\\merlab-jani\\anaconda3\\envs\\voice_cloning_env\\lib\\site-packages (from ipywidgets) (6.15.2)\n",
      "Requirement already satisfied: traitlets>=4.3.1 in c:\\users\\merlab-jani\\anaconda3\\envs\\voice_cloning_env\\lib\\site-packages (from ipywidgets) (5.1.1)\n",
      "Requirement already satisfied: ipython>=6.1.0 in c:\\users\\merlab-jani\\anaconda3\\envs\\voice_cloning_env\\lib\\site-packages (from ipywidgets) (7.31.1)\n",
      "Requirement already satisfied: jupyterlab-widgets~=3.0 in c:\\users\\merlab-jani\\anaconda3\\envs\\voice_cloning_env\\lib\\site-packages (from ipywidgets) (3.0.3)\n",
      "Requirement already satisfied: matplotlib<3.7,>=3.2 in c:\\users\\merlab-jani\\anaconda3\\envs\\voice_cloning_env\\lib\\site-packages (from pandas-profiling) (3.5.1)\n",
      "Requirement already satisfied: typeguard<2.14,>=2.13.2 in c:\\users\\merlab-jani\\anaconda3\\envs\\voice_cloning_env\\lib\\site-packages (from pandas-profiling) (2.13.3)\n",
      "Requirement already satisfied: phik<0.13,>=0.11.1 in c:\\users\\merlab-jani\\anaconda3\\envs\\voice_cloning_env\\lib\\site-packages (from pandas-profiling) (0.12.2)\n",
      "Requirement already satisfied: PyYAML<6.1,>=5.0.0 in c:\\users\\merlab-jani\\anaconda3\\envs\\voice_cloning_env\\lib\\site-packages (from pandas-profiling) (6.0)\n",
      "Requirement already satisfied: statsmodels<0.14,>=0.13.2 in c:\\users\\merlab-jani\\anaconda3\\envs\\voice_cloning_env\\lib\\site-packages (from pandas-profiling) (0.13.5)\n",
      "Requirement already satisfied: multimethod<1.10,>=1.4 in c:\\users\\merlab-jani\\anaconda3\\envs\\voice_cloning_env\\lib\\site-packages (from pandas-profiling) (1.9)\n",
      "Requirement already satisfied: scipy<1.10,>=1.4.1 in c:\\users\\merlab-jani\\anaconda3\\envs\\voice_cloning_env\\lib\\site-packages (from pandas-profiling) (1.7.3)\n",
      "Requirement already satisfied: visions[type_image_path]==0.7.5 in c:\\users\\merlab-jani\\anaconda3\\envs\\voice_cloning_env\\lib\\site-packages (from pandas-profiling) (0.7.5)\n",
      "Requirement already satisfied: requests<2.29,>=2.24.0 in c:\\users\\merlab-jani\\anaconda3\\envs\\voice_cloning_env\\lib\\site-packages (from pandas-profiling) (2.28.1)\n",
      "Requirement already satisfied: seaborn<0.13,>=0.10.1 in c:\\users\\merlab-jani\\anaconda3\\envs\\voice_cloning_env\\lib\\site-packages (from pandas-profiling) (0.12.1)\n",
      "Requirement already satisfied: pandas!=1.4.0,<1.6,>1.1 in c:\\users\\merlab-jani\\anaconda3\\envs\\voice_cloning_env\\lib\\site-packages (from pandas-profiling) (1.3.5)\n",
      "Requirement already satisfied: numpy<1.24,>=1.16.0 in c:\\users\\merlab-jani\\anaconda3\\envs\\voice_cloning_env\\lib\\site-packages (from pandas-profiling) (1.21.5)\n",
      "Requirement already satisfied: htmlmin==0.1.12 in c:\\users\\merlab-jani\\anaconda3\\envs\\voice_cloning_env\\lib\\site-packages (from pandas-profiling) (0.1.12)\n",
      "Requirement already satisfied: jinja2<3.2,>=2.11.1 in c:\\users\\merlab-jani\\anaconda3\\envs\\voice_cloning_env\\lib\\site-packages (from pandas-profiling) (3.1.2)\n",
      "Requirement already satisfied: tqdm<4.65,>=4.48.2 in c:\\users\\merlab-jani\\anaconda3\\envs\\voice_cloning_env\\lib\\site-packages (from pandas-profiling) (4.62.3)\n",
      "Requirement already satisfied: pydantic<1.11,>=1.8.1 in c:\\users\\merlab-jani\\anaconda3\\envs\\voice_cloning_env\\lib\\site-packages (from pandas-profiling) (1.10.2)\n",
      "Requirement already satisfied: attrs>=19.3.0 in c:\\users\\merlab-jani\\anaconda3\\envs\\voice_cloning_env\\lib\\site-packages (from visions[type_image_path]==0.7.5->pandas-profiling) (22.1.0)\n",
      "Requirement already satisfied: tangled-up-in-unicode>=0.0.4 in c:\\users\\merlab-jani\\anaconda3\\envs\\voice_cloning_env\\lib\\site-packages (from visions[type_image_path]==0.7.5->pandas-profiling) (0.2.0)\n",
      "Requirement already satisfied: networkx>=2.4 in c:\\users\\merlab-jani\\anaconda3\\envs\\voice_cloning_env\\lib\\site-packages (from visions[type_image_path]==0.7.5->pandas-profiling) (2.6.3)\n",
      "Requirement already satisfied: Pillow in c:\\users\\merlab-jani\\anaconda3\\envs\\voice_cloning_env\\lib\\site-packages (from visions[type_image_path]==0.7.5->pandas-profiling) (9.2.0)\n",
      "Requirement already satisfied: imagehash in c:\\users\\merlab-jani\\anaconda3\\envs\\voice_cloning_env\\lib\\site-packages (from visions[type_image_path]==0.7.5->pandas-profiling) (4.3.1)\n",
      "Requirement already satisfied: pyzmq>=17 in c:\\users\\merlab-jani\\anaconda3\\envs\\voice_cloning_env\\lib\\site-packages (from ipykernel>=4.5.1->ipywidgets) (24.0.1)\n",
      "Requirement already satisfied: debugpy>=1.0 in c:\\users\\merlab-jani\\anaconda3\\envs\\voice_cloning_env\\lib\\site-packages (from ipykernel>=4.5.1->ipywidgets) (1.5.1)\n",
      "Requirement already satisfied: psutil in c:\\users\\merlab-jani\\anaconda3\\envs\\voice_cloning_env\\lib\\site-packages (from ipykernel>=4.5.1->ipywidgets) (5.9.0)\n",
      "Requirement already satisfied: jupyter-client>=6.1.12 in c:\\users\\merlab-jani\\anaconda3\\envs\\voice_cloning_env\\lib\\site-packages (from ipykernel>=4.5.1->ipywidgets) (7.4.7)\n",
      "Requirement already satisfied: nest-asyncio in c:\\users\\merlab-jani\\anaconda3\\envs\\voice_cloning_env\\lib\\site-packages (from ipykernel>=4.5.1->ipywidgets) (1.5.5)\n",
      "Requirement already satisfied: tornado>=6.1 in c:\\users\\merlab-jani\\anaconda3\\envs\\voice_cloning_env\\lib\\site-packages (from ipykernel>=4.5.1->ipywidgets) (6.2)\n",
      "Requirement already satisfied: matplotlib-inline>=0.1 in c:\\users\\merlab-jani\\anaconda3\\envs\\voice_cloning_env\\lib\\site-packages (from ipykernel>=4.5.1->ipywidgets) (0.1.6)\n",
      "Requirement already satisfied: packaging in c:\\users\\merlab-jani\\anaconda3\\envs\\voice_cloning_env\\lib\\site-packages (from ipykernel>=4.5.1->ipywidgets) (21.3)\n",
      "Requirement already satisfied: prompt-toolkit!=3.0.0,!=3.0.1,<3.1.0,>=2.0.0 in c:\\users\\merlab-jani\\anaconda3\\envs\\voice_cloning_env\\lib\\site-packages (from ipython>=6.1.0->ipywidgets) (3.0.20)\n",
      "Requirement already satisfied: pickleshare in c:\\users\\merlab-jani\\anaconda3\\envs\\voice_cloning_env\\lib\\site-packages (from ipython>=6.1.0->ipywidgets) (0.7.5)\n",
      "Requirement already satisfied: decorator in c:\\users\\merlab-jani\\anaconda3\\envs\\voice_cloning_env\\lib\\site-packages (from ipython>=6.1.0->ipywidgets) (5.1.1)\n",
      "Requirement already satisfied: jedi>=0.16 in c:\\users\\merlab-jani\\anaconda3\\envs\\voice_cloning_env\\lib\\site-packages (from ipython>=6.1.0->ipywidgets) (0.18.1)\n",
      "Requirement already satisfied: backcall in c:\\users\\merlab-jani\\anaconda3\\envs\\voice_cloning_env\\lib\\site-packages (from ipython>=6.1.0->ipywidgets) (0.2.0)\n",
      "Requirement already satisfied: setuptools>=18.5 in c:\\users\\merlab-jani\\anaconda3\\envs\\voice_cloning_env\\lib\\site-packages (from ipython>=6.1.0->ipywidgets) (63.4.1)\n",
      "Requirement already satisfied: colorama in c:\\users\\merlab-jani\\anaconda3\\envs\\voice_cloning_env\\lib\\site-packages (from ipython>=6.1.0->ipywidgets) (0.4.5)\n",
      "Requirement already satisfied: pygments in c:\\users\\merlab-jani\\anaconda3\\envs\\voice_cloning_env\\lib\\site-packages (from ipython>=6.1.0->ipywidgets) (2.11.2)\n",
      "Requirement already satisfied: MarkupSafe>=2.0 in c:\\users\\merlab-jani\\anaconda3\\envs\\voice_cloning_env\\lib\\site-packages (from jinja2<3.2,>=2.11.1->pandas-profiling) (2.1.1)\n",
      "Requirement already satisfied: pyparsing>=2.2.1 in c:\\users\\merlab-jani\\anaconda3\\envs\\voice_cloning_env\\lib\\site-packages (from matplotlib<3.7,>=3.2->pandas-profiling) (3.0.9)\n",
      "Requirement already satisfied: kiwisolver>=1.0.1 in c:\\users\\merlab-jani\\anaconda3\\envs\\voice_cloning_env\\lib\\site-packages (from matplotlib<3.7,>=3.2->pandas-profiling) (1.4.4)\n",
      "Requirement already satisfied: fonttools>=4.22.0 in c:\\users\\merlab-jani\\anaconda3\\envs\\voice_cloning_env\\lib\\site-packages (from matplotlib<3.7,>=3.2->pandas-profiling) (4.37.4)\n",
      "Requirement already satisfied: cycler>=0.10 in c:\\users\\merlab-jani\\anaconda3\\envs\\voice_cloning_env\\lib\\site-packages (from matplotlib<3.7,>=3.2->pandas-profiling) (0.11.0)\n",
      "Requirement already satisfied: python-dateutil>=2.7 in c:\\users\\merlab-jani\\anaconda3\\envs\\voice_cloning_env\\lib\\site-packages (from matplotlib<3.7,>=3.2->pandas-profiling) (2.8.2)\n",
      "Requirement already satisfied: pytz>=2017.3 in c:\\users\\merlab-jani\\anaconda3\\envs\\voice_cloning_env\\lib\\site-packages (from pandas!=1.4.0,<1.6,>1.1->pandas-profiling) (2022.1)\n",
      "Requirement already satisfied: joblib>=0.14.1 in c:\\users\\merlab-jani\\anaconda3\\envs\\voice_cloning_env\\lib\\site-packages (from phik<0.13,>=0.11.1->pandas-profiling) (1.2.0)\n",
      "Requirement already satisfied: typing-extensions>=4.1.0 in c:\\users\\merlab-jani\\anaconda3\\envs\\voice_cloning_env\\lib\\site-packages (from pydantic<1.11,>=1.8.1->pandas-profiling) (4.3.0)\n",
      "Requirement already satisfied: urllib3<1.27,>=1.21.1 in c:\\users\\merlab-jani\\anaconda3\\envs\\voice_cloning_env\\lib\\site-packages (from requests<2.29,>=2.24.0->pandas-profiling) (1.26.12)\n",
      "Requirement already satisfied: idna<4,>=2.5 in c:\\users\\merlab-jani\\anaconda3\\envs\\voice_cloning_env\\lib\\site-packages (from requests<2.29,>=2.24.0->pandas-profiling) (3.3)\n",
      "Requirement already satisfied: certifi>=2017.4.17 in c:\\users\\merlab-jani\\anaconda3\\envs\\voice_cloning_env\\lib\\site-packages (from requests<2.29,>=2.24.0->pandas-profiling) (2022.9.24)\n",
      "Requirement already satisfied: charset-normalizer<3,>=2 in c:\\users\\merlab-jani\\anaconda3\\envs\\voice_cloning_env\\lib\\site-packages (from requests<2.29,>=2.24.0->pandas-profiling) (2.0.4)\n",
      "Requirement already satisfied: patsy>=0.5.2 in c:\\users\\merlab-jani\\anaconda3\\envs\\voice_cloning_env\\lib\\site-packages (from statsmodels<0.14,>=0.13.2->pandas-profiling) (0.5.3)\n",
      "Requirement already satisfied: parso<0.9.0,>=0.8.0 in c:\\users\\merlab-jani\\anaconda3\\envs\\voice_cloning_env\\lib\\site-packages (from jedi>=0.16->ipython>=6.1.0->ipywidgets) (0.8.3)\n",
      "Requirement already satisfied: entrypoints in c:\\users\\merlab-jani\\anaconda3\\envs\\voice_cloning_env\\lib\\site-packages (from jupyter-client>=6.1.12->ipykernel>=4.5.1->ipywidgets) (0.4)\n",
      "Requirement already satisfied: jupyter-core>=4.9.2 in c:\\users\\merlab-jani\\anaconda3\\envs\\voice_cloning_env\\lib\\site-packages (from jupyter-client>=6.1.12->ipykernel>=4.5.1->ipywidgets) (4.11.2)\n",
      "Requirement already satisfied: six in c:\\users\\merlab-jani\\anaconda3\\envs\\voice_cloning_env\\lib\\site-packages (from patsy>=0.5.2->statsmodels<0.14,>=0.13.2->pandas-profiling) (1.16.0)\n",
      "Requirement already satisfied: wcwidth in c:\\users\\merlab-jani\\anaconda3\\envs\\voice_cloning_env\\lib\\site-packages (from prompt-toolkit!=3.0.0,!=3.0.1,<3.1.0,>=2.0.0->ipython>=6.1.0->ipywidgets) (0.2.5)\n",
      "Requirement already satisfied: PyWavelets in c:\\users\\merlab-jani\\anaconda3\\envs\\voice_cloning_env\\lib\\site-packages (from imagehash->visions[type_image_path]==0.7.5->pandas-profiling) (1.3.0)\n",
      "Requirement already satisfied: pywin32>=1.0 in c:\\users\\merlab-jani\\anaconda3\\envs\\voice_cloning_env\\lib\\site-packages (from jupyter-core>=4.9.2->jupyter-client>=6.1.12->ipykernel>=4.5.1->ipywidgets) (302)\n"
     ]
    },
    {
     "name": "stderr",
     "output_type": "stream",
     "text": [
      "Enabling notebook extension jupyter-js-widgets/extension...\n",
      "      - Validating: ok\n"
     ]
    }
   ],
   "source": [
    "!pip install ipywidgets widgetsnbextension pandas-profiling\n",
    "!jupyter nbextension enable --py widgetsnbextension\n",
    "\n",
    "import ipywidgets"
   ]
  },
  {
   "cell_type": "code",
   "execution_count": 65,
   "id": "70edfdab",
   "metadata": {},
   "outputs": [],
   "source": [
    "import torch\n",
    "import torch.nn as nn\n",
    "import torchvision\n",
    "import torchvision.datasets as datasets\n",
    "from torch.utils.data import DataLoader\n",
    "import torchvision.transforms as transforms\n",
    "import matplotlib.pyplot as plt"
   ]
  },
  {
   "cell_type": "code",
   "execution_count": 66,
   "id": "720fbb7d",
   "metadata": {},
   "outputs": [
    {
     "name": "stdout",
     "output_type": "stream",
     "text": [
      "cuda\n"
     ]
    }
   ],
   "source": [
    "device = torch.device('cuda' if torch.cuda.is_available() else 'cpu')\n",
    "print(device)"
   ]
  },
  {
   "cell_type": "code",
   "execution_count": 67,
   "id": "feed4064",
   "metadata": {},
   "outputs": [],
   "source": [
    "input_size = 784\n",
    "hidden_size = 100  # num of neurons in hidden layer\n",
    "num_classes = 10   #labels\n",
    "num_epochs = 2\n",
    "batch_size = 100\n",
    "learning_rate = 0.001"
   ]
  },
  {
   "cell_type": "code",
   "execution_count": 68,
   "id": "79f394f6",
   "metadata": {},
   "outputs": [],
   "source": [
    "#MNIST\n",
    "train_dataset = datasets.MNIST(root='./mnist_dataset', train=True, transform=transforms.ToTensor(), download=True)\n",
    "test_dataset  = datasets.MNIST(root='./mnist_dataset', train=False, transform=transforms.ToTensor())\n",
    "\n",
    "train_loader = DataLoader(dataset=train_dataset, batch_size=batch_size, shuffle=True)\n",
    "test_loader = DataLoader(dataset=test_dataset, batch_size=batch_size, shuffle=False)"
   ]
  },
  {
   "cell_type": "code",
   "execution_count": 69,
   "id": "ec9e38a6",
   "metadata": {},
   "outputs": [
    {
     "name": "stdout",
     "output_type": "stream",
     "text": [
      "torch.Size([100, 1, 28, 28]) torch.Size([100])\n"
     ]
    }
   ],
   "source": [
    "examples = iter(train_loader)\n",
    "\n",
    "samples, labels = examples.next()\n",
    "\n",
    "print(samples.shape, labels.shape)"
   ]
  },
  {
   "cell_type": "code",
   "execution_count": 70,
   "id": "7607513b",
   "metadata": {},
   "outputs": [
    {
     "data": {
      "image/png": "[encoded data removed]",
      "text/plain": [
       "<Figure size 640x480 with 10 Axes>"
      ]
     },
     "metadata": {},
     "output_type": "display_data"
    }
   ],
   "source": [
    "for i in range(10):\n",
    "    plt.subplot(5, 2, i+1)\n",
    "    plt.imshow(samples[i][0], cmap='gray')\n",
    "plt.show()"
   ]
  },
  {
   "cell_type": "code",
   "execution_count": 71,
   "id": "27c8042c",
   "metadata": {},
   "outputs": [],
   "source": [
    "class NeuralNet(nn.Module):\n",
    "    def __init__(self, input_size, hidden_size, num_classes):\n",
    "        super(NeuralNet, self).__init__()\n",
    "        self.l1 = nn.Linear(input_size, hidden_size)\n",
    "        self.relu = nn.ReLU()\n",
    "        self.dropout = nn.Dropout(p=0.2)\n",
    "        self.l2 = nn.Linear(hidden_size, num_classes)\n",
    "        \n",
    "    def forward(self, x):\n",
    "        out = self.l1(x)\n",
    "        out = self.relu(out)\n",
    "        out = self.dropout(out)\n",
    "        out = self.l2(out)\n",
    "        return out"
   ]
  },
  {
   "cell_type": "code",
   "execution_count": 72,
   "id": "2c835081",
   "metadata": {},
   "outputs": [],
   "source": [
    "#model\n",
    "model = NeuralNet(input_size, hidden_size, num_classes).to(device) # to(device) to keep the tensors in the activated device (cuda in this case)\n",
    "#loss and Optimizer\n",
    "criterion = nn.CrossEntropyLoss()\n",
    "optimizer = torch.optim.Adam(model.parameters(), lr=learning_rate)\n"
   ]
  },
  {
   "cell_type": "code",
   "execution_count": 73,
   "id": "040b0e53",
   "metadata": {},
   "outputs": [
    {
     "name": "stdout",
     "output_type": "stream",
     "text": [
      "600\n",
      "epoch  1 / 2 step  0.16666666666666666 loss =  0.5351\n",
      "epoch  1 / 2 step  0.3333333333333333 loss =  0.3965\n",
      "epoch  1 / 2 step  0.5 loss =  0.3536\n",
      "epoch  1 / 2 step  0.6666666666666666 loss =  0.2777\n",
      "epoch  1 / 2 step  0.8333333333333334 loss =  0.1922\n",
      "epoch  1 / 2 step  1.0 loss =  0.1666\n",
      "epoch  2 / 2 step  0.16666666666666666 loss =  0.2520\n",
      "epoch  2 / 2 step  0.3333333333333333 loss =  0.2736\n",
      "epoch  2 / 2 step  0.5 loss =  0.2333\n",
      "epoch  2 / 2 step  0.6666666666666666 loss =  0.3217\n",
      "epoch  2 / 2 step  0.8333333333333334 loss =  0.1904\n",
      "epoch  2 / 2 step  1.0 loss =  0.1298\n"
     ]
    }
   ],
   "source": [
    "# training loop\n",
    "n_total_steps = len(train_loader)\n",
    "print(n_total_steps)\n",
    "\n",
    "for epoch in range(num_epochs):\n",
    "    for i, (images, labels) in enumerate(train_loader):\n",
    "        # 100, 1, 28, 28\n",
    "        # 100, 784\n",
    "        images = images.reshape(-1, 28*28).to(device)\n",
    "        labels = labels.to(device)\n",
    "        \n",
    "        # forward \n",
    "        outputs = model(images)\n",
    "        loss = criterion(outputs, labels)\n",
    "        \n",
    "        # backwards\n",
    "        optimizer.zero_grad() # to empty the gradient attribute from the last forward prop\n",
    "        loss.backward()       # backward prop\n",
    "        optimizer.step()      # update parameters in each step\n",
    "        \n",
    "        if (i+1)%100 == 0:\n",
    "            print('epoch ', (epoch+1), '/', num_epochs, 'step ', ((i+1)/n_total_steps), 'loss = ', '%.4f' % loss.item())\n",
    "        \n",
    "        "
   ]
  },
  {
   "cell_type": "code",
   "execution_count": 88,
   "id": "b566904a",
   "metadata": {},
   "outputs": [
    {
     "name": "stdout",
     "output_type": "stream",
     "text": [
      "accuracy =  94.47\n"
     ]
    }
   ],
   "source": [
    "# test\n",
    "with torch.no_grad():\n",
    "    n_correct = 0\n",
    "    n_samples = 0\n",
    "    for images, labels in test_loader:\n",
    "        images = images.reshape(-1, 28*28).to(device)\n",
    "        labels = labels.to(device)\n",
    "        outputs = model(images)\n",
    "        # values, index\n",
    "        _, predictions = torch.max(outputs, 1)\n",
    "        n_samples += labels.shape[0]\n",
    "        n_correct += (predictions == labels).sum().item()\n",
    "    \n",
    "    acc = 100.0 * n_correct/n_samples\n",
    "    \n",
    "    print('accuracy = ', acc)\n",
    "        "
   ]
  },
  {
   "cell_type": "code",
   "execution_count": null,
   "id": "8030fc6f",
   "metadata": {},
   "outputs": [],
   "source": []
  }
 ],
 "metadata": {
  "kernelspec": {
   "display_name": "Python 3 (ipykernel)",
   "language": "python",
   "name": "python3"
  },
  "language_info": {
   "codemirror_mode": {
    "name": "ipython",
    "version": 3
   },
   "file_extension": ".py",
   "mimetype": "text/x-python",
   "name": "python",
   "nbconvert_exporter": "python",
   "pygments_lexer": "ipython3",
   "version": "3.7.13"
  }
 },
 "nbformat": 4,
 "nbformat_minor": 5
}
